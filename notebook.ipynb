{
 "cells": [
  {
   "cell_type": "code",
   "execution_count": 9,
   "metadata": {},
   "outputs": [],
   "source": [
    "from imports import *"
   ]
  },
  {
   "attachments": {},
   "cell_type": "markdown",
   "metadata": {},
   "source": [
    "### Importing The Relevant Datasets ###"
   ]
  },
  {
   "cell_type": "code",
   "execution_count": 10,
   "metadata": {},
   "outputs": [
    {
     "name": "stdout",
     "output_type": "stream",
     "text": [
      "\n"
     ]
    }
   ],
   "source": [
    "## Figure 1\n",
    "# Temp time series for Arctic and Globally\n",
    "arctic_temps_obs = pd.read_csv('Datasets/arctic_temps_obs.csv')\n",
    "global_temp_obs = pd.read_csv('Datasets/global_temps_obs.csv')\n",
    "# Gridded temp trends (w/ and w/o the masking mentioned in Fig1 caption)\n",
    "OBSAVE_trend = xr.open_dataset('Datasets/OBSAVE_trend.nc')\n",
    "OBSAVE_trend.attrs['time_span'] = '1979-2021' # specify time frame\n",
    "\n",
    "## Figure 2 \n",
    "# AA ratio and percentile in the CMIP6 in fig2\n",
    "obs_aa_sensitivity = pd.read_csv('Datasets/obs_aa_sensitivity.csv')\n",
    "obs_aa_perc_cmip6 = pd.read_csv('Datasets/obs_aa_perc_cmip6.csv')\n",
    "\n",
    "## Figure 3\n",
    "# 43 year AA ratio from the models\n",
    "cmip5_aa_ann = pd.read_csv('Datasets/cmip5_aa_ann.csv')\n",
    "cmip6_aa_ann = pd.read_csv('Datasets/cmip6_aa_ann.csv')\n",
    "mpi_ge_aa_ann = pd.read_csv('Datasets/mpi-ge_aa_ann.csv')\n",
    "# 43 year AA ratio from the observations\n",
    "observed_aa_ann = pd.read_csv('Datasets/observed_aa_ann.csv')\n",
    "\n",
    "## Figure 4\n",
    "# AA ratio as a fxn of the starting year of the trend\n",
    "cmip5_aa_to_present = pd.read_csv('Datasets/cmip5_aa_to_present.csv')\n",
    "cmip6_aa_to_present = pd.read_csv('Datasets/cmip6_aa_to_present.csv')\n",
    "mpi_ge_aa_to_present = pd.read_csv('Datasets/mpi-ge_aa_to_present.csv')\n",
    "\n",
    "\n",
    "\"\"\" Need some help on this one \"\"\"\n",
    "\"\"\" ## Figure 5\n",
    "# Seasonality of AA from the CMIP6 models\n",
    "zip_file = ZipFile('Datasets/cmip6_aa_seasonality.zip')\n",
    "cmip6_aa_seasonality = {text_file.filename: pd.read_csv(zip_file.open(text_file.filename))\n",
    "       for text_file in zip_file.infolist()\n",
    "       if text_file.filename.endswith('.csv')}\n",
    "# Seasonality of AA from observation\n",
    "zip_file = ZipFile('Datasets/obs_aa_seasonality.zip')\n",
    "obs_aa_seasonality = {text_file.filename: pd.read_csv(zip_file.open(text_file.filename))\n",
    "       for text_file in zip_file.infolist()\n",
    "       if text_file.filename.endswith('.csv')} \"\"\"\n",
    "\"\"\" Need some help on this one \"\"\"\n",
    "print()\n",
    "\n",
    "## Figure 6\n",
    "# Freq distributions of all possible 43 year rations (1970-2040?)\n",
    "# SAME AS FIG 3\n",
    "# Observed AA ratio\n",
    "# SAME AS FIG 3\n",
    "\n"
   ]
  }
 ],
 "metadata": {
  "kernelspec": {
   "display_name": "base",
   "language": "python",
   "name": "python3"
  },
  "language_info": {
   "codemirror_mode": {
    "name": "ipython",
    "version": 3
   },
   "file_extension": ".py",
   "mimetype": "text/x-python",
   "name": "python",
   "nbconvert_exporter": "python",
   "pygments_lexer": "ipython3",
   "version": "3.10.9"
  },
  "orig_nbformat": 4
 },
 "nbformat": 4,
 "nbformat_minor": 2
}
